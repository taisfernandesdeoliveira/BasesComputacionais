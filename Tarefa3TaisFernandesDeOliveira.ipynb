{
  "nbformat": 4,
  "nbformat_minor": 0,
  "metadata": {
    "colab": {
      "provenance": [],
      "collapsed_sections": [],
      "authorship_tag": "ABX9TyPOsQBhALr5dUI9zW/RUWJR",
      "include_colab_link": true
    },
    "kernelspec": {
      "name": "python3",
      "display_name": "Python 3"
    },
    "language_info": {
      "name": "python"
    }
  },
  "cells": [
    {
      "cell_type": "markdown",
      "metadata": {
        "id": "view-in-github",
        "colab_type": "text"
      },
      "source": [
        "<a href=\"https://colab.research.google.com/github/taisfernandesdeoliveira/BasesComputacionais/blob/master/Tarefa3TaisFernandesDeOliveira.ipynb\" target=\"_parent\"><img src=\"https://colab.research.google.com/assets/colab-badge.svg\" alt=\"Open In Colab\"/></a>"
      ]
    },
    {
      "cell_type": "markdown",
      "source": [
        "# Taís Fernandes de Oliveira \n",
        "\n"
      ],
      "metadata": {
        "id": "MEEU3Hgddtn1"
      }
    },
    {
      "cell_type": "markdown",
      "source": [
        "## Tarefa 3 da disciplina de Bases Computacionais da Ciência \n",
        "\n",
        "### Cálculo para definir o número de segundos dado os números de horas contidos em uma variável com diversos exemplos.\n",
        "\n"
      ],
      "metadata": {
        "id": "Qla_NTTxew6I"
      }
    },
    {
      "cell_type": "code",
      "source": [
        "y = 1.30\n",
        "x = y * 60 * 60\n",
        "x"
      ],
      "metadata": {
        "colab": {
          "base_uri": "https://localhost:8080/"
        },
        "id": "ScMRtS7xgFLq",
        "outputId": "4e0d78f1-9a04-4d63-e0c1-4af029f93e84"
      },
      "execution_count": 49,
      "outputs": [
        {
          "output_type": "execute_result",
          "data": {
            "text/plain": [
              "4680.0"
            ]
          },
          "metadata": {},
          "execution_count": 49
        }
      ]
    },
    {
      "cell_type": "code",
      "source": [
        "y = 12\n",
        "x = y * 60 * 60\n",
        "x"
      ],
      "metadata": {
        "colab": {
          "base_uri": "https://localhost:8080/"
        },
        "id": "_2N0lhAyhWfU",
        "outputId": "aa4e79ad-b752-4876-cc66-46c67005caf3"
      },
      "execution_count": 50,
      "outputs": [
        {
          "output_type": "execute_result",
          "data": {
            "text/plain": [
              "43200"
            ]
          },
          "metadata": {},
          "execution_count": 50
        }
      ]
    },
    {
      "cell_type": "code",
      "source": [
        "y = 24\n",
        "x = y * 60 * 60\n",
        "x"
      ],
      "metadata": {
        "colab": {
          "base_uri": "https://localhost:8080/"
        },
        "id": "sdey8FeqhbkF",
        "outputId": "bb75a450-86c5-4e0b-a61b-320d2f426b47"
      },
      "execution_count": 43,
      "outputs": [
        {
          "output_type": "execute_result",
          "data": {
            "text/plain": [
              "86400"
            ]
          },
          "metadata": {},
          "execution_count": 43
        }
      ]
    }
  ]
}